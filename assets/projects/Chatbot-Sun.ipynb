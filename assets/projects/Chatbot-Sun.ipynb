{
 "cells": [
  {
   "cell_type": "code",
   "execution_count": 46,
   "id": "692729f0-6480-4fbd-aa08-0a72d8c593fd",
   "metadata": {},
   "outputs": [],
   "source": [
    "from jupyturtle import make_turtle, forward, left, right, back, set_color"
   ]
  },
  {
   "cell_type": "code",
   "execution_count": 32,
   "id": "78fa1275-8ada-4552-8c7b-468ddbc7c5c8",
   "metadata": {},
   "outputs": [
    {
     "data": {
      "text/html": [
       "<svg width=\"300\" height=\"150\" style=\"fill:none; stroke-linecap:round;\">\n",
       "    <rect width=\"100%\" height=\"100%\" fill=\"#F3F3F7\" />\n",
       "\n",
       "\n",
       "<path stroke=\"#663399\" stroke-width=\"2\" d=\"M 150,75 200,75 200,25 150,25 150,75 200,75 200,25\" />'\n",
       "\n",
       "<g transform=\"rotate(90.0,200.0,25.0) translate(200.0, 25.0)\">\n",
       "    <circle stroke=\"#63A375\" stroke-width=\"2\" fill=\"transparent\" r=\"5.5\" cx=\"0\" cy=\"0\"/>\n",
       "    <polygon points=\"0,12 2,9 -2,9\" style=\"fill:#63A375;stroke:#63A375;stroke-width:2\"/>\n",
       "</g>\n",
       "\n",
       "</svg>"
      ],
      "text/plain": [
       "<IPython.core.display.HTML object>"
      ]
     },
     "metadata": {},
     "output_type": "display_data"
    }
   ],
   "source": [
    "make_turtle()\n",
    "for x in range(6):\n",
    "    forward(50)\n",
    "    left(90)"
   ]
  },
  {
   "cell_type": "code",
   "execution_count": 36,
   "id": "a576dd2a-742e-4397-8ce5-fcb7889a444d",
   "metadata": {},
   "outputs": [
    {
     "data": {
      "text/html": [
       "<svg width=\"300\" height=\"150\" style=\"fill:none; stroke-linecap:round;\">\n",
       "    <rect width=\"100%\" height=\"100%\" fill=\"#F3F3F7\" />\n",
       "\n",
       "\n",
       "<path stroke=\"#663399\" stroke-width=\"2\" d=\"M 150,75 152,75 154,74.9 156,74.6 157.9,74.2 159.9,73.8 161.8,73.1 163.6,72.4 165.5,71.5 167.2,70.6 168.9,69.5 170.5,68.3 172.1,67.1 173.5,65.7 174.9,64.2 176.2,62.7 177.3,61.1 178.4,59.4 179.4,57.6 180.2,55.8 181,54 181.6,52.1 182.1,50.1 182.4,48.2 182.7,46.2 182.8,44.2 182.8,42.2 182.7,40.2 182.4,38.2 182.1,36.2 181.6,34.3 181,32.4 180.2,30.5 179.4,28.7 178.4,27 177.3,25.3 176.2,23.7 174.9,22.1 173.5,20.7 172.1,19.3 170.5,18 168.9,16.8 167.2,15.8 165.5,14.8 163.6,14 161.8,13.2 159.9,12.6 157.9,12.1 156,11.7 154,11.5 152,11.4 150,11.4 148,11.5 146,11.7 144.1,12.1 142.1,12.6 140.2,13.2 138.4,14 136.5,14.8 134.8,15.8 133.1,16.8 131.5,18 129.9,19.3 128.5,20.7 127.1,22.1 125.8,23.7 124.7,25.3 123.6,27 122.6,28.7 121.8,30.5 121,32.4 120.4,34.3 119.9,36.2 119.6,38.2 119.3,40.2 119.2,42.2 119.2,44.2 119.3,46.2 119.6,48.2 119.9,50.1 120.4,52.1 121,54 121.8,55.8 122.6,57.6 123.6,59.4 124.7,61.1 125.8,62.7 127.1,64.2 128.5,65.7 129.9,67.1 131.5,68.3 133.1,69.5 134.8,70.6 136.5,71.5 138.4,72.4 140.2,73.1 142.1,73.8 144.1,74.2 146,74.6 148,74.9 150,75\" />'\n",
       "\n",
       "<g transform=\"rotate(270.0,150.0,75.0) translate(150.0, 75.0)\">\n",
       "    <circle stroke=\"#63A375\" stroke-width=\"2\" fill=\"transparent\" r=\"5.5\" cx=\"0\" cy=\"0\"/>\n",
       "    <polygon points=\"0,12 2,9 -2,9\" style=\"fill:#63A375;stroke:#63A375;stroke-width:2\"/>\n",
       "</g>\n",
       "\n",
       "</svg>"
      ],
      "text/plain": [
       "<IPython.core.display.HTML object>"
      ]
     },
     "metadata": {},
     "output_type": "display_data"
    }
   ],
   "source": [
    "def polygon(n, length):\n",
    "    angle = 360 / n # exterior angle\n",
    "    for x in range(n):\n",
    "        forward(length)\n",
    "        left(angle)\n",
    "\n",
    "make_turtle(delay = 0.01)\n",
    "polygon(n=100, length = 2)"
   ]
  },
  {
   "cell_type": "code",
   "execution_count": 49,
   "id": "ddf7220e-0b2b-4ff8-97dc-b09b6885a24f",
   "metadata": {
    "scrolled": true
   },
   "outputs": [
    {
     "data": {
      "text/html": [
       "<svg width=\"300\" height=\"150\" style=\"fill:none; stroke-linecap:round;\">\n",
       "    <rect width=\"100%\" height=\"100%\" fill=\"#F3F3F7\" />\n",
       "\n",
       "\n",
       "<path stroke=\"darkturquoise\" stroke-width=\"2\" d=\"M 150,75 151.5,75 152.2,73.7 153,75 154.4,75 155.2,73.7 154.4,72.4 155.9,72.4 156.7,71.2 157.4,72.4 158.9,72.4 158.1,73.7 158.9,75 160.4,75 161.1,73.7 161.9,75 163.3,75 164.1,73.7 163.3,72.4 164.8,72.4 165.6,71.2 164.8,69.9 163.3,69.9 164.1,68.6 163.3,67.3 164.8,67.3 165.6,66 166.3,67.3 167.8,67.3 168.5,66 167.8,64.7 169.3,64.7 170,63.5 170.7,64.7 172.2,64.7 171.5,66 172.2,67.3 173.7,67.3 174.4,66 175.2,67.3 176.7,67.3 175.9,68.6 176.7,69.9 175.2,69.9 174.4,71.2 175.2,72.4 176.7,72.4 175.9,73.7 176.7,75 178.1,75 178.9,73.7 179.6,75 181.1,75 181.9,73.7 181.1,72.4 182.6,72.4 183.3,71.2 184.1,72.4 185.6,72.4 184.8,73.7 185.6,75 187,75 187.8,73.7 188.5,75 190,75\" />'\n",
       "\n",
       "<path stroke=\"lightpink\" stroke-width=\"2\" d=\"M 190,75 191,76 192.5,75.7 192.1,77.1 193.1,78.1 194.6,77.8 195,76.3 196,77.4 197.4,77 197.1,78.4 198.1,79.5 196.7,79.9 196.3,81.3 197.3,82.3 198.8,81.9 198.4,83.4 199.4,84.4 200.9,84 201.2,82.6 202.3,83.7 203.7,83.3 204.1,81.8 203.1,80.8 204.5,80.4 204.9,79 205.9,80 207.3,79.6 207,81.1 208,82.1 209.4,81.7 209.8,80.3 210.9,81.4 212.3,81 211.9,82.4 213,83.5 211.5,83.8 211.2,85.3 212.2,86.3 213.6,85.9 213.3,87.4 214.3,88.4 212.9,88.8 212.5,90.2 211.4,89.2 210,89.6 209.6,91 210.7,92 209.2,92.4 208.9,93.9 209.9,94.9 211.3,94.5 211,96 212,97 213.4,96.6 213.8,95.2 214.9,96.2 216.3,95.8 215.9,97.3 217,98.3 215.5,98.7 215.1,100.1 216.2,101.2 217.6,100.8 217.2,102.2 218.3,103.3\" />'\n",
       "\n",
       "<path stroke=\"red\" stroke-width=\"2\" d=\"M 218.3,103.3 218.3,104.8 219.6,105.5 218.3,106.2 218.3,107.7 219.6,108.5 220.9,107.7 220.9,109.2 222.1,110 220.9,110.7 220.9,112.2 219.6,111.4 218.3,112.2 218.3,113.7 219.6,114.4 218.3,115.1 218.3,116.6 219.6,117.4 220.9,116.6 220.9,118.1 222.1,118.8 223.4,118.1 223.4,116.6 224.7,117.4 226,116.6 226,118.1 227.3,118.8 226,119.6 226,121.1 227.3,121.8 228.5,121.1 228.5,122.5 229.8,123.3 228.5,124 228.5,125.5 227.3,124.8 226,125.5 226,127 227.3,127.7 226,128.5 226,130 224.7,129.2 223.4,130 223.4,128.5 222.1,127.7 220.9,128.5 220.9,130 219.6,129.2 218.3,130 218.3,131.4 219.6,132.2 218.3,132.9 218.3,134.4 219.6,135.1 220.9,134.4 220.9,135.9 222.1,136.6 220.9,137.4 220.9,138.8 219.6,138.1 218.3,138.8 218.3,140.3 219.6,141.1 218.3,141.8 218.3,143.3\" />'\n",
       "\n",
       "<path stroke=\"royalblue\" stroke-width=\"2\" d=\"M 218.3,143.3 217.2,144.3 217.6,145.8 216.2,145.4 215.1,146.4 215.5,147.9 217,148.2 215.9,149.3 216.3,150.7 214.9,150.3 213.8,151.4 213.4,150 212,149.6 211,150.6 211.3,152 209.9,151.7 208.9,152.7 209.2,154.1 210.7,154.5 209.6,155.6 210,157 211.4,157.4 212.5,156.3 212.9,157.8 214.3,158.2 213.3,159.2 213.6,160.6 212.2,160.3 211.2,161.3 211.5,162.7 213,163.1 211.9,164.2 212.3,165.6 210.9,165.2 209.8,166.3 209.4,164.8 208,164.4 207,165.5 207.3,166.9 205.9,166.5 204.9,167.6 204.5,166.2 203.1,165.8 204.1,164.7 203.7,163.3 202.3,162.9 201.2,164 200.9,162.5 199.4,162.1 198.4,163.2 198.8,164.6 197.3,164.2 196.3,165.3 196.7,166.7 198.1,167.1 197.1,168.1 197.4,169.6 196,169.2 195,170.2 194.6,168.8 193.1,168.4 192.1,169.5 192.5,170.9 191,170.5 190,171.6\" />'\n",
       "\n",
       "<path stroke=\"darkturquoise\" stroke-width=\"2\" d=\"M 190,171.6 188.5,171.6 187.8,172.9 187,171.6 185.6,171.6 184.8,172.9 185.6,174.1 184.1,174.1 183.3,175.4 182.6,174.1 181.1,174.1 181.9,172.9 181.1,171.6 179.6,171.6 178.9,172.9 178.1,171.6 176.7,171.6 175.9,172.9 176.7,174.1 175.2,174.1 174.4,175.4 175.2,176.7 176.7,176.7 175.9,178 176.7,179.3 175.2,179.3 174.4,180.5 173.7,179.3 172.2,179.3 171.5,180.5 172.2,181.8 170.7,181.8 170,183.1 169.3,181.8 167.8,181.8 168.5,180.5 167.8,179.3 166.3,179.3 165.6,180.5 164.8,179.3 163.3,179.3 164.1,178 163.3,176.7 164.8,176.7 165.6,175.4 164.8,174.1 163.3,174.1 164.1,172.9 163.3,171.6 161.9,171.6 161.1,172.9 160.4,171.6 158.9,171.6 158.1,172.9 158.9,174.1 157.4,174.1 156.7,175.4 155.9,174.1 154.4,174.1 155.2,172.9 154.4,171.6 153,171.6 152.2,172.9 151.5,171.6 150,171.6\" />'\n",
       "\n",
       "<path stroke=\"lightpink\" stroke-width=\"2\" d=\"M 150,171.6 149,170.5 147.5,170.9 147.9,169.5 146.9,168.4 145.4,168.8 145,170.2 144,169.2 142.6,169.6 142.9,168.1 141.9,167.1 143.3,166.7 143.7,165.3 142.7,164.2 141.2,164.6 141.6,163.2 140.6,162.1 139.1,162.5 138.8,164 137.7,162.9 136.3,163.3 135.9,164.7 136.9,165.8 135.5,166.2 135.1,167.6 134.1,166.5 132.7,166.9 133,165.5 132,164.4 130.6,164.8 130.2,166.3 129.1,165.2 127.7,165.6 128.1,164.2 127,163.1 128.5,162.7 128.8,161.3 127.8,160.3 126.4,160.6 126.7,159.2 125.7,158.2 127.1,157.8 127.5,156.3 128.6,157.4 130,157 130.4,155.6 129.3,154.5 130.8,154.1 131.1,152.7 130.1,151.7 128.7,152 129,150.6 128,149.6 126.6,150 126.2,151.4 125.1,150.3 123.7,150.7 124.1,149.3 123,148.2 124.5,147.9 124.9,146.4 123.8,145.4 122.4,145.8 122.8,144.3 121.7,143.3\" />'\n",
       "\n",
       "<path stroke=\"red\" stroke-width=\"2\" d=\"M 121.7,143.3 121.7,141.8 120.4,141.1 121.7,140.3 121.7,138.8 120.4,138.1 119.1,138.8 119.1,137.4 117.9,136.6 119.1,135.9 119.1,134.4 120.4,135.1 121.7,134.4 121.7,132.9 120.4,132.2 121.7,131.4 121.7,130 120.4,129.2 119.1,130 119.1,128.5 117.9,127.7 116.6,128.5 116.6,130 115.3,129.2 114,130 114,128.5 112.7,127.7 114,127 114,125.5 112.7,124.8 111.5,125.5 111.5,124 110.2,123.3 111.5,122.5 111.5,121.1 112.7,121.8 114,121.1 114,119.6 112.7,118.8 114,118.1 114,116.6 115.3,117.4 116.6,116.6 116.6,118.1 117.9,118.8 119.1,118.1 119.1,116.6 120.4,117.4 121.7,116.6 121.7,115.1 120.4,114.4 121.7,113.7 121.7,112.2 120.4,111.4 119.1,112.2 119.1,110.7 117.9,110 119.1,109.2 119.1,107.7 120.4,108.5 121.7,107.7 121.7,106.2 120.4,105.5 121.7,104.8 121.7,103.3\" />'\n",
       "\n",
       "<path stroke=\"royalblue\" stroke-width=\"2\" d=\"M 121.7,103.3 122.8,102.2 122.4,100.8 123.8,101.2 124.9,100.1 124.5,98.7 123,98.3 124.1,97.3 123.7,95.8 125.1,96.2 126.2,95.2 126.6,96.6 128,97 129,96 128.7,94.5 130.1,94.9 131.1,93.9 130.8,92.4 129.3,92 130.4,91 130,89.6 128.6,89.2 127.5,90.2 127.1,88.8 125.7,88.4 126.7,87.4 126.4,85.9 127.8,86.3 128.8,85.3 128.5,83.8 127,83.5 128.1,82.4 127.7,81 129.1,81.4 130.2,80.3 130.6,81.7 132,82.1 133,81.1 132.7,79.6 134.1,80 135.1,79 135.5,80.4 136.9,80.8 135.9,81.8 136.3,83.3 137.7,83.7 138.8,82.6 139.1,84 140.6,84.4 141.6,83.4 141.2,81.9 142.7,82.3 143.7,81.3 143.3,79.9 141.9,79.5 142.9,78.4 142.6,77 144,77.4 145,76.3 145.4,77.8 146.9,78.1 147.9,77.1 147.5,75.7 149,76 150,75\" />'\n",
       "\n",
       "<g transform=\"rotate(-90.0,150.0,75.0) translate(150.0, 75.0)\">\n",
       "    <circle stroke=\"#63A375\" stroke-width=\"2\" fill=\"transparent\" r=\"5.5\" cx=\"0\" cy=\"0\"/>\n",
       "    <polygon points=\"0,12 2,9 -2,9\" style=\"fill:#63A375;stroke:#63A375;stroke-width:2\"/>\n",
       "</g>\n",
       "\n",
       "</svg>"
      ],
      "text/plain": [
       "<IPython.core.display.HTML object>"
      ]
     },
     "metadata": {},
     "output_type": "display_data"
    }
   ],
   "source": [
    "colors = 'darkturquoise lightpink red royalblue'.split()\n",
    "\n",
    "# recursive function - calls itself\n",
    "def snowflake_branch(size, levels):\n",
    "    if levels==0:\n",
    "        forward(size)\n",
    "        return\n",
    "    size /= 3.0 # size = size / 3.0\n",
    "    snowflake_branch(size, levels - 1)\n",
    "    left(60)\n",
    "    snowflake_branch(size, levels - 1)\n",
    "    right(120)\n",
    "    snowflake_branch(size, levels - 1)\n",
    "    left(60)\n",
    "    snowflake_branch(size, levels - 1)\n",
    "\n",
    "def draw_snowflake(size, levels, sides):\n",
    "    length = len(colors)\n",
    "    for i in range(sides):\n",
    "        set_color(colors[i%length])\n",
    "        snowflake_branch(size, levels)\n",
    "        right(360/sides)\n",
    "\n",
    "# make_turtle(delay = 0.002)\n",
    "make_turtle(delay=0)\n",
    "draw_snowflake(40, 3, 8)"
   ]
  },
  {
   "cell_type": "markdown",
   "id": "19a0b092-6725-4704-b94f-35f8b0907691",
   "metadata": {},
   "source": [
    "Building on the `mood_chatbot`, create a `song_chatbot` function that recommends a song based on how you are feeling.\n",
    "\n",
    "Hint: use a dictionary to store the songs, with entries in the format of `\"mood\":[songlist]` (e.g. `\"negative\":[\"Someone You Loved - Lewis Capaldi\", ..., \"Numb - Linkin Park\"]`). You may need to use `random.choice()`."
   ]
  },
  {
   "cell_type": "code",
   "execution_count": 26,
   "id": "f94cf3b1-8ba4-4044-9181-877360879145",
   "metadata": {},
   "outputs": [
    {
     "name": "stdout",
     "output_type": "stream",
     "text": [
      "Hi! I'll recommend you some songs based on your mood.\n",
      "How are you feeling today?\n"
     ]
    },
    {
     "name": "stdin",
     "output_type": "stream",
     "text": [
      "You:  i'm ok\n"
     ]
    },
    {
     "name": "stdout",
     "output_type": "stream",
     "text": [
      "Sentiment score: 0.5\n",
      "Chatbot: Hmm, I can't quite tell how you're feeling. Neutral, maybe? How about listening to Memories - Maroon 5?\n",
      "Chatbot: Thanks for sharing! Have a great day!\n"
     ]
    }
   ],
   "source": [
    "# recommendation chatbot (songs / activities)\n",
    "from textblob import TextBlob\n",
    "from textblob import Word\n",
    "import random\n",
    "\n",
    "# pastebin.com/wi8vFdvw\n",
    "def song_chatbot():\n",
    "    songs = { #key:value\n",
    "        \"negative\":[\"Someone You Loved - Lewis Capaldi\", \"Numb - Linkin Park\"],\n",
    "        \"neutral\":[\"Dejame Entrar - Rauw Alejandro\", \"Memories - Maroon 5\"], \n",
    "        \"positive\":[\"BAILE INoLVIDABLE - Bad Bunny\", \"24K Magic - Bruno Mars\", \"APT. - Bruno Mars\"]\n",
    "    }\n",
    "    print(\"Hi! I'll recommend you some songs based on your mood.\")\n",
    "    print(\"How are you feeling today?\")\n",
    "    \n",
    "    # Get user input\n",
    "    user_response = input(\"You: \")\n",
    "    \n",
    "    # Analyze sentiment using TextBlob\n",
    "    blob = TextBlob(user_response)\n",
    "    sentiment = blob.sentiment.polarity\n",
    "    print(f'Sentiment score: {sentiment}')\n",
    "    \n",
    "    # Evaluate the sentiment and respond accordingly\n",
    "    if sentiment > 0.5:\n",
    "        song = random.choice(songs[\"positive\"])\n",
    "        print(f\"Chatbot: That's great to hear! You seem really happy today! Your song is {song}\")\n",
    "    elif sentiment >= 0:\n",
    "        song = random.choice(songs[\"neutral\"])\n",
    "        print(f\"Chatbot: Hmm, I can't quite tell how you're feeling. Neutral, maybe? How about listening to {song}?\")\n",
    "    else:\n",
    "        song = random.choice(songs[\"negative\"])\n",
    "        print(f\"Chatbot: Oh no! It seems like you're feeling a bit down. Maybe {song} will help.\")\n",
    "\n",
    "    print(\"Chatbot: Thanks for sharing! Have a great day!\")\n",
    "\n",
    "song_chatbot()"
   ]
  },
  {
   "cell_type": "code",
   "execution_count": 2,
   "id": "7c2a6fe2-780c-4af5-93a7-65933f86decb",
   "metadata": {},
   "outputs": [
    {
     "name": "stdout",
     "output_type": "stream",
     "text": [
      "192.168.1.195:50051\n"
     ]
    }
   ],
   "source": [
    "from ugot import ugot\n",
    "got = ugot.UGOT()\n",
    "got.initialize('192.168.1.195')"
   ]
  },
  {
   "cell_type": "code",
   "execution_count": 3,
   "id": "2474feb2-ecce-4bab-a0ca-a4a343a4d7ae",
   "metadata": {},
   "outputs": [],
   "source": [
    "def ugot_moves():\n",
    "    commanding = True\n",
    "    command_list = ['forward', 'backward', 'left', 'right']\n",
    "    print('Welcome to the UGOT command centre! Type \"exit\" to quit. Type \"help\" for a list of commands.')\n",
    "    while commanding:\n",
    "        print('What are your orders?')\n",
    "        command = input('> ').lower() # 'forward 10 backward 20'\n",
    "        command = command.split(' ') # this is now a list\n",
    "\n",
    "        for i, value in enumerate(command):\n",
    "\n",
    "            if value =='exit':\n",
    "                commanding = False\n",
    "                print('Exiting robot...')\n",
    "    \n",
    "            if value == 'help':\n",
    "                print('Here are the available commands: ')\n",
    "                for i in command_list:\n",
    "                    print(f'- {i}')\n",
    "    \n",
    "            if value == 'forward':\n",
    "                print('Moving...')\n",
    "                got.mecanum_move_speed_times(0, 20, int(command[i+1]), 1)\n",
    "            \n",
    "            if value == 'backward':\n",
    "                print('Moving...')\n",
    "                got.mecanum_move_speed_times(1, 20, int(command[i+1]), 1)\n",
    "    \n",
    "            if value == 'left':\n",
    "                print('Moving...')\n",
    "                got.mecanum_turn_speed_times(2, 30, int(command[i+1]), 2)\n",
    "    \n",
    "            if value == 'right':\n",
    "                print('Moving...')\n",
    "                got.mecanum_turn_speed_times(3, 30, int(command[i+1]), 2)\n",
    "            \n",
    "            # else:\n",
    "            #     print(\"I don't understand this command.\")\n",
    "\n",
    "# ugot_moves()"
   ]
  },
  {
   "cell_type": "code",
   "execution_count": 4,
   "id": "f3588d46-98b2-4197-8814-d4828a6565d0",
   "metadata": {},
   "outputs": [],
   "source": [
    "def add_user(users):\n",
    "    # adds a username and password to a dictionary\n",
    "    adding = True\n",
    "    while adding:\n",
    "        new_username = input(\"Add username here: \")\n",
    "        if new_username in users:\n",
    "            print(\"Error: username already exists.\")\n",
    "        else:\n",
    "            new_password = input(\"Add password here: \")\n",
    "            users[new_username] = new_password\n",
    "            adding = False"
   ]
  },
  {
   "cell_type": "code",
   "execution_count": 5,
   "id": "a963071c-55f6-437b-a621-647de22d9c3f",
   "metadata": {},
   "outputs": [],
   "source": [
    "def calculator():\n",
    "    \"\"\"Gets user to input an operation (+, -, *, /, etc.) and two numbers, then print the result.\"\"\"\n",
    "    print(\"Welcome to the Python Calculator!\")\n",
    "    print(\"You can perform the following operations on two numbers:\")\n",
    "    print(\"Addition (+), Subtraction (-), Multiplication (*), Division (/)\")\n",
    "    print(\"Type 'exit' to quit.\")\n",
    "\n",
    "    # Dictionary of operations\n",
    "    operations = {\n",
    "        '+' : lambda x, y : x + y,\n",
    "        '-' : lambda x, y : x - y,\n",
    "        '*' : lambda x, y : x * y,\n",
    "        '/' : lambda x, y : x / y if y!=0 else \"Error: Division by zero not allowed.\"\n",
    "    }\n",
    "\n",
    "    while True:\n",
    "        # Get user input for the operation\n",
    "        operation = input(\"Enter the operation (+, -, *, /) or 'exit' to quit: \").strip()\n",
    "\n",
    "        if operation.lower() == \"exit\":\n",
    "            print(\"Bye!\")\n",
    "            break\n",
    "\n",
    "        if operation not in operations:\n",
    "            print(\"Invalid operation. Please choose +, -, *, or /.\")\n",
    "            continue\n",
    "\n",
    "        try:\n",
    "            # Get the numbers\n",
    "            num1 = float(input(\"Enter the first number: \"))\n",
    "            num2 = float(input(\"Enter the second number: \"))\n",
    "            \n",
    "            # Perform the calculation\n",
    "            result = operations[operation](num1, num2)\n",
    "            print(f\"The result is: {result}\")\n",
    "        except ValueError:\n",
    "            print(\"Invalid input. Please enter numeric value.\")\n",
    "\n",
    "# calculator()"
   ]
  },
  {
   "cell_type": "code",
   "execution_count": 6,
   "id": "1afe4d73-5c20-4674-b3da-97fa7c1d4a4a",
   "metadata": {},
   "outputs": [],
   "source": [
    "import random\n",
    "\n",
    "def guess_the_number():\n",
    "    print(\"Welcome to the Guess the Number Game!\")\n",
    "    print(\"Choose a difficulty level:\")\n",
    "    print(\"1. Easy (Exact hints: Too high/Too low)\")\n",
    "    print(\"2. Medium (Relative range hints: Within 10, Within 5)\")\n",
    "    print(\"3. Hard (General feedback only: Hot/Cold)\")\n",
    "\n",
    "    # Select difficulty level\n",
    "    while True:\n",
    "        difficulty = input(\"Enter the number corresponding to the difficulty (1/2/3): \").strip()\n",
    "        if difficulty in [\"1\", \"2\", \"3\"]:\n",
    "            break\n",
    "        else:\n",
    "            print(\"Invalid choice. Please enter 1, 2 or 3.\")\n",
    "    # Generate a random number \n",
    "    secret_number = random.randint(1,100)\n",
    "    attempts = 0\n",
    "\n",
    "    print(\"\\nI've picked a number between 1 and 100. Can you guess it?\")\n",
    "\n",
    "    while True:\n",
    "        try:\n",
    "            guess = int(input(\"Your guess: \"))\n",
    "            attempts += 1 # same as attempts = attempts + 1\n",
    "            if guess == secret_number:\n",
    "                print(f\"Congratulations! You guessed it in {attempts} attempts.\")\n",
    "                break\n",
    "            # Provide hints based on difficulty level\n",
    "            if difficulty == \"1\":\n",
    "                if guess > secret_number:\n",
    "                    print(\"Too high! Try again.\")\n",
    "                else:\n",
    "                    print(\"Too low! Try again.\")\n",
    "            elif difficulty == \"2\":\n",
    "                difference = abs(secret_number - guess)\n",
    "                if difference <= 5:\n",
    "                    print(\"Very close! You're within 5.\")\n",
    "                elif difference <= 10:\n",
    "                    print(\"Close! You're within 10.\")\n",
    "                else:\n",
    "                    print(\"You're far off. Try again.\")\n",
    "            elif difficulty == \"3\":\n",
    "                # exercise: add hard (cold / warm if within 15 / hot if within 5)\n",
    "                difference = abs(secret_number - guess)\n",
    "                if difference <= 5:\n",
    "                    print(\"Hot!\")\n",
    "                elif difference <= 15:\n",
    "                    print(\"Warm!\")\n",
    "                else:\n",
    "                    print(\"Cold.\")\n",
    "        except ValueError:\n",
    "            print(\"Please enter a valid number.\")\n",
    "\n",
    "# guess_the_number()"
   ]
  },
  {
   "cell_type": "code",
   "execution_count": null,
   "id": "b822005b-2bc4-4ee0-b7c6-fc489d3963c6",
   "metadata": {},
   "outputs": [],
   "source": [
    "def rps():\n",
    "    print(\"Welcome to Rock, Paper, Scissors!\")\n",
    "    choices = [\"rock\", \"paper\", \"scissors\"]\n",
    "    playing = True\n",
    "    while playing:\n",
    "        player_choice = input(\"Enter your choice (rock, paper or scissors): \").lower().strip()\n",
    "        if player_choice not in choices:\n",
    "            print(\"Invalid choice! Please choose rock, paper, or scissors.\")\n",
    "        else:\n",
    "            computer_choice = random.choice(choices)\n",
    "            print(f\"Computer chose: {computer_choice}\")\n",
    "            if player_choice == computer_choice:\n",
    "                print(\"It's a tie!\")\n",
    "            elif (player_choice == \"rock\" and computer_choice == \"scissors\") or\\\n",
    "                 (player_choice == \"scissors\" and computer_choice == \"paper\") or\\\n",
    "                (player_choice == \"paper\" and computer_choice == \"rock\"):\n",
    "                print(\"You win!\")\n",
    "            else:\n",
    "                print(\"Computer wins!\")\n",
    "            playing = False                             "
   ]
  },
  {
   "cell_type": "code",
   "execution_count": 7,
   "id": "bf53eb25-3ad5-4a0f-866f-1d822191b116",
   "metadata": {},
   "outputs": [
    {
     "name": "stdin",
     "output_type": "stream",
     "text": [
      "Please enter your username:  michelle\n",
      "Please enter your password:  password\n"
     ]
    },
    {
     "name": "stdout",
     "output_type": "stream",
     "text": [
      "Welcome, michelle!\n",
      "Hi! I'm a chatbot. What would you like to do?\n",
      " Type 'help' for a list of available commands.\n",
      " Type 'exit' to exit the chatbot.\n"
     ]
    },
    {
     "name": "stdin",
     "output_type": "stream",
     "text": [
      "You:  help\n"
     ]
    },
    {
     "name": "stdout",
     "output_type": "stream",
     "text": [
      "Here are the available commands\n",
      "- exit : Exits the chatbot\n",
      "- help : Prints all available commands\n",
      "- add user : Adds a new user to the chatbot\n",
      "- ugot : Enters the UGOT command centre\n",
      "- calc : Enters the Python calculator\n",
      "- guess : Play a simple number guessing game\n"
     ]
    },
    {
     "name": "stdin",
     "output_type": "stream",
     "text": [
      "You:  exit\n"
     ]
    },
    {
     "name": "stdout",
     "output_type": "stream",
     "text": [
      "Goodbye!\n"
     ]
    }
   ],
   "source": [
    "# login system\n",
    "users = {\"michelle\":\"password\"}\n",
    "\n",
    "logged_in = False # flag variable\n",
    "\n",
    "while not logged_in:\n",
    "    username = input(\"Please enter your username: \")\n",
    "    password = input(\"Please enter your password: \")\n",
    "\n",
    "    if username in users:\n",
    "        if users[username] == password:\n",
    "            print(f\"Welcome, {username}!\")\n",
    "            logged_in = True\n",
    "        else:\n",
    "            print(\"Password does not match\")\n",
    "    else:\n",
    "        print(\"Username not found\")\n",
    "\n",
    "# dictionary to contain commands\n",
    "commands = {\"exit\":\"Exits the chatbot\", \n",
    "            \"help\":\"Prints all available commands\", \n",
    "            \"add user\":\"Adds a new user to the chatbot\",\n",
    "            \"ugot\" : \"Enters the UGOT command centre\",\n",
    "            \"calc\" : \"Enters the Python calculator\",\n",
    "            \"guess\" : \"Play a simple number guessing game\"\n",
    "           } # key: value\n",
    "\n",
    "print(\"Hi! I'm a chatbot. What would you like to do?\\n Type \\'help\\' for a list of available commands.\\n Type \\'exit\\' to exit the chatbot.\")\n",
    "\n",
    "while True:\n",
    "    prompt = input(\"You: \").lower()\n",
    "    if \"exit\" in prompt:\n",
    "        print(\"Goodbye!\")\n",
    "        break\n",
    "    elif 'help' in prompt:\n",
    "        print(\"Here are the available commands\")\n",
    "        for command, description in commands.items():\n",
    "            print(f\"- {command} : {description}\") #formatted string\n",
    "            #better than print(\"- \" + command + \" : \" + description)\n",
    "    elif 'add user' in prompt:\n",
    "        add_user(users)\n",
    "        print(\"New user added successfully!\")\n",
    "    elif 'hello' in prompt:\n",
    "        print(\"Hello! How are you doing?\")\n",
    "        input(\"You: \")\n",
    "        print(\"I see!\")\n",
    "        \n",
    "    elif 'ugot' in prompt:\n",
    "        ugot_moves()\n",
    "\n",
    "    elif 'calc' in prompt:\n",
    "        calculator()\n",
    "\n",
    "    elif 'guess' in prompt:\n",
    "        guess_the_number()\n",
    "        \n",
    "    else:\n",
    "        print(\"I don't understand that command.\")"
   ]
  },
  {
   "cell_type": "markdown",
   "id": "176e154c-7e13-4a68-b88f-b69299cae939",
   "metadata": {},
   "source": [
    "# Demo"
   ]
  },
  {
   "cell_type": "code",
   "execution_count": 8,
   "id": "3b91d05d-cfd9-46a8-b2d9-bc895e2431f2",
   "metadata": {},
   "outputs": [
    {
     "data": {
      "text/plain": [
       "dict_items([('key', 'hello'), ('apple', 'Orange'), ('vasco', 'red cap')])"
      ]
     },
     "execution_count": 8,
     "metadata": {},
     "output_type": "execute_result"
    }
   ],
   "source": [
    "dictionary = {\"key\":\"hello\", \"apple\":\"Orange\"}\n",
    "dictionary[\"vasco\"] = \"red cap\"\n",
    "dictionary.items()"
   ]
  },
  {
   "cell_type": "code",
   "execution_count": 9,
   "id": "0563e276-d394-458d-aa01-9d9d7aba09f0",
   "metadata": {},
   "outputs": [
    {
     "data": {
      "text/plain": [
       "['forward', '10', 'backward', '20']"
      ]
     },
     "execution_count": 9,
     "metadata": {},
     "output_type": "execute_result"
    }
   ],
   "source": [
    "'forward 10 backward 20'.split(' ')"
   ]
  },
  {
   "cell_type": "code",
   "execution_count": 10,
   "id": "74d49ff7-0baf-4af0-86c5-02df8f8be199",
   "metadata": {},
   "outputs": [
    {
     "name": "stdout",
     "output_type": "stream",
     "text": [
      "0, never\n",
      "1, gonna\n",
      "2, give\n",
      "3, you\n",
      "4, up\n"
     ]
    }
   ],
   "source": [
    "test_list = ['never', 'gonna', 'give', 'you', 'up']\n",
    "for i, j in enumerate(test_list):\n",
    "    print(f'{i}, {j}')"
   ]
  },
  {
   "cell_type": "code",
   "execution_count": 25,
   "id": "289b2b39-33b4-430d-b642-59c475e3a277",
   "metadata": {},
   "outputs": [
    {
     "data": {
      "text/plain": [
       "'hongyi'"
      ]
     },
     "execution_count": 25,
     "metadata": {},
     "output_type": "execute_result"
    }
   ],
   "source": [
    "import random\n",
    "random.choice([\"vasco\", \"ria\", \"jiahong\", \"hongyi\"])"
   ]
  }
 ],
 "metadata": {
  "kernelspec": {
   "display_name": "Python 3 (ipykernel)",
   "language": "python",
   "name": "python3"
  },
  "language_info": {
   "codemirror_mode": {
    "name": "ipython",
    "version": 3
   },
   "file_extension": ".py",
   "mimetype": "text/x-python",
   "name": "python",
   "nbconvert_exporter": "python",
   "pygments_lexer": "ipython3",
   "version": "3.12.7"
  }
 },
 "nbformat": 4,
 "nbformat_minor": 5
}
